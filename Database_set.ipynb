{
 "cells": [
  {
   "cell_type": "markdown",
   "id": "7d101633-8fc7-46cb-ae49-8dd78a3f4e31",
   "metadata": {},
   "source": [
    "# Database format"
   ]
  },
  {
   "cell_type": "markdown",
   "id": "e67524ea-8f66-433b-8655-5a951d61ee76",
   "metadata": {},
   "source": [
    "## 1 - Dataset"
   ]
  },
  {
   "cell_type": "markdown",
   "id": "b2b4d5ef-b189-4433-b1f0-5c3ff3a88338",
   "metadata": {},
   "source": [
    "The database for training is composed of 119 CT scans from 104 patients. The different didn't have the same organs at risks. The list of the differents OARs is shown below in the Label dictionary. The database need to be in the right format for nnU-Net."
   ]
  },
  {
   "cell_type": "code",
   "execution_count": 1,
   "id": "f4686154-7f41-4a33-a2d2-b6bea4807405",
   "metadata": {},
   "outputs": [],
   "source": [
    "OAR = {'Patient': ['patient.nii', 'Patient.nii', 'patientcf.nii'],\n",
    "       'Parotide_G': ['ParotideG.nii', 'parotideG.nii', 'parotide_G.nii', 'Parotide_G.nii', 'ParotidGlandLeft.nii', 'parotG.nii', 'Parotideg.nii', 'ParotideGcf.nii', 'PAROTIDEG.nii', 'PAROTIDEGAUCHE.nii', 'parotideg.nii', 'parotideg1.nii', 'parotideGcf.nii'],\n",
    "       'Parotide_D': ['ParotideD.nii', 'parotideD.nii', 'Parotide_D.nii', 'parotide_D.nii', 'ParotidGlandRight.nii', 'parotD.nii', 'Parotided.nii', 'ParotideDcf.nii', 'PAROTIDEDROITE.nii', 'parotidedte.nii', 'parotidedte1.nii', 'PAROTIDED', 'ParotideDcf.nii'],\n",
    "       'Larynx': ['Larynx.nii', 'larynx.nii', 'LARYNX.nii', 'LarynxSansCTV.nii', 'larynx1.nii'], \n",
    "       'Tronc_Cerebral': ['TroncCerebral.nii', 'TRONC.nii', 'TC.nii', 'tronccerebral.nii', 'tronc.nii', 'tronccerebralcf.nii', 'Tronccerebral.nii', 'troncc?r?bral.nii', 'tronccerebralcf.nii'],\n",
    "       'Trachee': ['Trachee.nii', 'TRACHEE.nii', 'trachee.nii', 'Tracheecf.nii', 'trachee1.nii'],\n",
    "       'Cavite_Buccale': ['CaviteBuccale.nii', 'cavitebuccale.nii', 'cavit?buccale.nii', 'Cacbuccale.nii', 'cavite_buccale.nii', 'caviteorale.nii', 'CAVITEBUCCALE.nii', 'cavorale.nii', 'cavbuccale.nii', 'CavBuccale.nii', 'CAVBUCCALE.nii'],\n",
    "       'Moelle': ['Moelle.nii', 'moellecf.nii'],\n",
    "       'Oesophage': ['Oesophage.nii', 'oeso.nii', 'oesophage.nii', 'Oeso.nii'],\n",
    "       'Thyroide': ['THYROIDE.nii', 'thyroide.nii', 'Thyro?de.nii'],\n",
    "       'Mandibule': ['Mandibule.nii', 'Mandible.nii', 'mandib.nii', 'mandibule.nii', 'mandibulecf.nii'],\n",
    "       'Chiasma': ['Chiasma.nii', 'CHIASMA.nii', 'chiasma.nii', 'CHIASM', 'chiasma1.nii']}\n",
    "\n",
    "\n",
    "Label = {'Background': 0,\n",
    "        'Patient': 1,\n",
    "        'Parotide_D': 2,\n",
    "       'Parotide_G': 3,\n",
    "       'Larynx': 4, \n",
    "       'Tronc_Cerebral': 5,\n",
    "       'Trachee': 6,\n",
    "       'Cavite_Buccale': 7,\n",
    "       'Moelle': 8,\n",
    "       'Oesophage': 9,\n",
    "       'Thyroide': 10,\n",
    "       'Mandibule': 11,\n",
    "       'Chiasma': 12}\n",
    "\n",
    "list_remove = []\n",
    "for i in range(100, -1, -1):\n",
    "    list_remove.append(str(i) + \"_\")\n",
    "\n"
   ]
  },
  {
   "cell_type": "code",
   "execution_count": null,
   "id": "d3ebf249-b981-4bcc-8c63-f02ae5dc7edc",
   "metadata": {},
   "outputs": [],
   "source": []
  }
 ],
 "metadata": {
  "kernelspec": {
   "display_name": "Python 3 (ipykernel)",
   "language": "python",
   "name": "python3"
  },
  "language_info": {
   "codemirror_mode": {
    "name": "ipython",
    "version": 3
   },
   "file_extension": ".py",
   "mimetype": "text/x-python",
   "name": "python",
   "nbconvert_exporter": "python",
   "pygments_lexer": "ipython3",
   "version": "3.8.10"
  }
 },
 "nbformat": 4,
 "nbformat_minor": 5
}
